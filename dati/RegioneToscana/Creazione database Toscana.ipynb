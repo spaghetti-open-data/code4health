{
 "cells": [
  {
   "cell_type": "code",
   "execution_count": 3,
   "metadata": {
    "collapsed": true
   },
   "outputs": [],
   "source": [
    "import urllib\n",
    "import os\n",
    "import pandas as pd"
   ]
  },
  {
   "cell_type": "code",
   "execution_count": 4,
   "metadata": {
    "collapsed": true
   },
   "outputs": [],
   "source": [
    "province = [\"http://www.arpat.toscana.it/temi-ambientali/amianto/mappatura/edifici/arezzo.pdf\",\n",
    "\"http://www.arpat.toscana.it/temi-ambientali/amianto/mappatura/edifici/firenze.pdf\",\n",
    "\"http://www.arpat.toscana.it/temi-ambientali/amianto/mappatura/edifici/grosseto.pdf\",\n",
    "\"http://www.arpat.toscana.it/temi-ambientali/amianto/mappatura/edifici/livorno.pdf\",\n",
    "\"http://www.arpat.toscana.it/temi-ambientali/amianto/mappatura/edifici/lucca.pdf\",\n",
    "\"http://www.arpat.toscana.it/temi-ambientali/amianto/mappatura/edifici/massa.pdf\",\n",
    "\"http://www.arpat.toscana.it/temi-ambientali/amianto/mappatura/edifici/pisa.pdf\",\n",
    "\"http://www.arpat.toscana.it/temi-ambientali/amianto/mappatura/edifici/pistoia.pdf\",\n",
    "\"http://www.arpat.toscana.it/temi-ambientali/amianto/mappatura/edifici/prato.pdf\",\n",
    "\"http://www.arpat.toscana.it/temi-ambientali/amianto/mappatura/edifici/siena.pdf\"]"
   ]
  },
  {
   "cell_type": "code",
   "execution_count": 12,
   "metadata": {
    "collapsed": false
   },
   "outputs": [],
   "source": [
    "def scarica_pdf(link):\n",
    "    urllib.urlretrieve(link, os.path.join(os.getcwd(), \"PDF\", os.path.basename(link)))\n",
    "    "
   ]
  },
  {
   "cell_type": "code",
   "execution_count": 13,
   "metadata": {
    "collapsed": false
   },
   "outputs": [],
   "source": [
    "for provincia in province:\n",
    "    scarica_pdf(provincia)"
   ]
  },
  {
   "cell_type": "markdown",
   "metadata": {},
   "source": [
    "<h2> proviamo a effettuare la trasformazione del pdf in txt attraverso PDFminer </h2>"
   ]
  },
  {
   "cell_type": "code",
   "execution_count": 5,
   "metadata": {
    "collapsed": true
   },
   "outputs": [],
   "source": [
    "from cStringIO import StringIO\n",
    "from pdfminer.pdfinterp import PDFResourceManager, PDFPageInterpreter\n",
    "from pdfminer.converter import TextConverter\n",
    "from pdfminer.layout import LAParams\n",
    "from pdfminer.pdfpage import PDFPage\n",
    "\n",
    "def convert(fname, pages=None):\n",
    "    if not pages:\n",
    "        pagenums = set()\n",
    "    else:\n",
    "        pagenums = set(pages)\n",
    "\n",
    "    output = StringIO()\n",
    "    manager = PDFResourceManager()\n",
    "    converter = TextConverter(manager, output, laparams=LAParams())\n",
    "    interpreter = PDFPageInterpreter(manager, converter)\n",
    "\n",
    "    infile = file(fname, 'rb')\n",
    "    for page in PDFPage.get_pages(infile, pagenums):\n",
    "        interpreter.process_page(page)\n",
    "    infile.close()\n",
    "    converter.close()\n",
    "    text = output.getvalue()\n",
    "    output.close\n",
    "    return text "
   ]
  },
  {
   "cell_type": "code",
   "execution_count": 70,
   "metadata": {
    "collapsed": false
   },
   "outputs": [],
   "source": [
    "#convert(os.path.basename(province[0])).split(\"\\n\\n\")"
   ]
  },
  {
   "cell_type": "markdown",
   "metadata": {},
   "source": [
    "<h2> esito negativo, utilizziamo TABULA </h2>"
   ]
  },
  {
   "cell_type": "code",
   "execution_count": 71,
   "metadata": {
    "collapsed": false
   },
   "outputs": [],
   "source": [
    "#os.listdir(os.getcwd())"
   ]
  },
  {
   "cell_type": "markdown",
   "metadata": {},
   "source": [
    "<h2> aggreghiamo i dati estratti con tabula </h2>"
   ]
  },
  {
   "cell_type": "code",
   "execution_count": 15,
   "metadata": {
    "collapsed": true
   },
   "outputs": [],
   "source": [
    "toscana = pd.DataFrame(columns = [u'provincia', u'comune', u'Ragione sociale', u'indirizzo', u'civico', u'destinazione', u'sup_coperta'])"
   ]
  },
  {
   "cell_type": "code",
   "execution_count": 17,
   "metadata": {
    "collapsed": false
   },
   "outputs": [],
   "source": [
    "for item in ['tabula-arezzo.csv',\n",
    " 'tabula-firenze.csv',\n",
    " 'tabula-grosseto.csv',\n",
    " 'tabula-livorno.csv',\n",
    " 'tabula-lucca.csv',\n",
    " 'tabula-massa.csv',\n",
    " 'tabula-pisa.csv',\n",
    " 'tabula-pistoia.csv',\n",
    " 'tabula-prato.csv',\n",
    " 'tabula-siena.csv']:\n",
    "    url = os.path.join(os.getcwd(), \"Tabula\", item)\n",
    "    toscana = pd.concat([toscana, pd.read_csv(url, encoding='utf-8', sep=\",\")])"
   ]
  },
  {
   "cell_type": "markdown",
   "metadata": {},
   "source": [
    "<h2> rimuoviamo le intestazioni di colonna in eccesso </h2>"
   ]
  },
  {
   "cell_type": "code",
   "execution_count": 18,
   "metadata": {
    "collapsed": true
   },
   "outputs": [],
   "source": [
    "toscana = toscana[toscana[\"provincia\"] != \"provincia\"]"
   ]
  },
  {
   "cell_type": "code",
   "execution_count": 19,
   "metadata": {
    "collapsed": true
   },
   "outputs": [],
   "source": [
    "#si risolve una stranezza unicode di importazione tabula\n",
    "for columns in range(0,toscana.shape[1]):\n",
    "    for rows in range(0,toscana.shape[0]):\n",
    "        try: \n",
    "            unicode(toscana.iloc[rows, columns])\n",
    "        except:\n",
    "            for caracter in toscana.iloc[rows, columns]:\n",
    "                try:\n",
    "                    unicode(caracter)\n",
    "                except:\n",
    "                    toscana.iloc[rows, columns] = toscana.iloc[rows, columns].replace(caracter, \"X\")"
   ]
  },
  {
   "cell_type": "markdown",
   "metadata": {},
   "source": [
    "<h2> rimuoviamo le interruzioni di linea all'interno delle celle create da Tabula </h2>"
   ]
  },
  {
   "cell_type": "code",
   "execution_count": 20,
   "metadata": {
    "collapsed": true
   },
   "outputs": [],
   "source": [
    "def replace(x):\n",
    "    if type(x) == str or type(x) == unicode:\n",
    "        x = x.replace('\\r', '')\n",
    "    else:\n",
    "        x = x[0].replace('\\r', '')\n",
    "    return x\n",
    "    \n",
    "toscana[\"indirizzo\"] = toscana[\"indirizzo\"].map(lambda x: x.replace('\"', ''))\n",
    "toscana[\"indirizzo\"] = toscana[\"indirizzo\"].map(lambda x: replace(x))\n",
    "\n",
    "toscana[\"Ragione sociale\"] = toscana[\"Ragione sociale\"].map(lambda x: x.replace('\"', ''))\n",
    "toscana[\"Ragione sociale\"] = toscana[\"Ragione sociale\"].map(lambda x: replace(x))\n"
   ]
  },
  {
   "cell_type": "code",
   "execution_count": null,
   "metadata": {
    "collapsed": true
   },
   "outputs": [],
   "source": []
  },
  {
   "cell_type": "code",
   "execution_count": null,
   "metadata": {
    "collapsed": false
   },
   "outputs": [],
   "source": []
  },
  {
   "cell_type": "markdown",
   "metadata": {
    "collapsed": false
   },
   "source": [
    "<h2> prima prova di geolocalizzazione </h2>"
   ]
  },
  {
   "cell_type": "code",
   "execution_count": 25,
   "metadata": {
    "collapsed": true
   },
   "outputs": [],
   "source": [
    "import geopy"
   ]
  },
  {
   "cell_type": "code",
   "execution_count": 75,
   "metadata": {
    "collapsed": false
   },
   "outputs": [
    {
     "name": "stdout",
     "output_type": "stream",
     "text": [
      "42/23, Via di Novoli, Careggi, Firenze, FI, TOS, 50127, Italia\n"
     ]
    }
   ],
   "source": [
    "from geopy.geocoders import Nominatim\n",
    "geolocator = Nominatim()\n",
    "location = geolocator.geocode(\"Firenze Via di Novoli 23\")\n",
    "print(location.address)"
   ]
  },
  {
   "cell_type": "code",
   "execution_count": 76,
   "metadata": {
    "collapsed": false
   },
   "outputs": [
    {
     "data": {
      "text/plain": [
       "(43.793649, 11.2202068)"
      ]
     },
     "execution_count": 76,
     "metadata": {},
     "output_type": "execute_result"
    }
   ],
   "source": [
    "location.latitude, location.longitude"
   ]
  },
  {
   "cell_type": "code",
   "execution_count": 44,
   "metadata": {
    "collapsed": true
   },
   "outputs": [],
   "source": [
    "def coordinate(via):\n",
    "    try:\n",
    "        location = geolocator.geocode(via)\n",
    "        return location.latitude, location.longitude\n",
    "    except:\n",
    "        pass\n",
    "    "
   ]
  },
  {
   "cell_type": "code",
   "execution_count": 45,
   "metadata": {
    "collapsed": false
   },
   "outputs": [],
   "source": [
    "toscana[\"geo\"] = toscana[\"comune\"] + \" \" + toscana[\"indirizzo\"]"
   ]
  },
  {
   "cell_type": "code",
   "execution_count": 46,
   "metadata": {
    "collapsed": false
   },
   "outputs": [],
   "source": [
    "toscana[\"coordinate\"] = toscana[\"geo\"].map(lambda x: coordinate(x))"
   ]
  },
  {
   "cell_type": "code",
   "execution_count": 65,
   "metadata": {
    "collapsed": false
   },
   "outputs": [],
   "source": [
    "def estrai_lat_long(x, posizione):\n",
    "    try:\n",
    "        return x[posizione]\n",
    "    except:\n",
    "        pass\n",
    "\n",
    "\n",
    "toscana[\"latitudine\"] = toscana[\"coordinate\"].map(lambda x: estrai_lat_long(x,0))"
   ]
  },
  {
   "cell_type": "code",
   "execution_count": 66,
   "metadata": {
    "collapsed": true
   },
   "outputs": [],
   "source": [
    "toscana[\"longitudine\"] = toscana[\"coordinate\"].map(lambda x: estrai_lat_long(x,1))"
   ]
  },
  {
   "cell_type": "code",
   "execution_count": 74,
   "metadata": {
    "collapsed": false
   },
   "outputs": [],
   "source": [
    "toscana.to_excel(\"toscana.xlsx\")"
   ]
  },
  {
   "cell_type": "code",
   "execution_count": 69,
   "metadata": {
    "collapsed": false
   },
   "outputs": [],
   "source": [
    "toscana.to_csv(\"toscana.csv\", encoding = \"utf-8\")"
   ]
  },
  {
   "cell_type": "code",
   "execution_count": 89,
   "metadata": {
    "collapsed": false
   },
   "outputs": [],
   "source": [
    "nulle = toscana[\"coordinate\"].isnull().sum() \n",
    "casi = len(toscana[\"coordinate\"])"
   ]
  },
  {
   "cell_type": "code",
   "execution_count": 94,
   "metadata": {
    "collapsed": false
   },
   "outputs": [
    {
     "data": {
      "text/plain": [
       "0"
      ]
     },
     "execution_count": 94,
     "metadata": {},
     "output_type": "execute_result"
    }
   ],
   "source": [
    "float(nulle) / casi"
   ]
  },
  {
   "cell_type": "code",
   "execution_count": null,
   "metadata": {
    "collapsed": true
   },
   "outputs": [],
   "source": []
  }
 ],
 "metadata": {
  "kernelspec": {
   "display_name": "Python 2",
   "language": "python",
   "name": "python2"
  },
  "language_info": {
   "codemirror_mode": {
    "name": "ipython",
    "version": 2
   },
   "file_extension": ".py",
   "mimetype": "text/x-python",
   "name": "python",
   "nbconvert_exporter": "python",
   "pygments_lexer": "ipython2",
   "version": "2.7.11"
  }
 },
 "nbformat": 4,
 "nbformat_minor": 0
}
